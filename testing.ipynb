{
 "cells": [
  {
   "cell_type": "code",
   "execution_count": 2,
   "metadata": {},
   "outputs": [
    {
     "data": {
      "text/plain": [
       "Index(['price', 'host_is_superhost', 'host_listings_count', 'accommodates',\n",
       "       'bathrooms_text', 'beds', 'minimum_nights', 'maximum_nights',\n",
       "       'number_of_reviews', 'review_scores_rating', 'property_type'],\n",
       "      dtype='object')"
      ]
     },
     "execution_count": 2,
     "metadata": {},
     "output_type": "execute_result"
    }
   ],
   "source": [
    "import pandas as pd\n",
    "import numpy as np\n",
    "import matplotlib.pyplot as plt\n",
    "\n",
    "df = pd.read_csv(r\"listings.csv\")\n",
    "listings = df[['price', 'host_is_superhost','host_listings_count',\n",
    "                      'accommodates', 'bathrooms_text', 'beds', 'minimum_nights', 'maximum_nights', \n",
    "                      'number_of_reviews', 'review_scores_rating', 'property_type']]\n",
    "listings.columns"
   ]
  },
  {
   "cell_type": "code",
   "execution_count": 3,
   "metadata": {},
   "outputs": [],
   "source": [
    "from sklearn.model_selection import train_test_split\n",
    "\n",
    "train_set, test_set = train_test_split(df, test_size=0.2, random_state=42)\n",
    "\n",
    "listings = train_set.copy()\n",
    "# does not include longitude and latitude"
   ]
  },
  {
   "cell_type": "code",
   "execution_count": 27,
   "metadata": {},
   "outputs": [],
   "source": [
    "def clean_price(df):\n",
    "    #converts price column to floats\n",
    "    col_name = 'price'\n",
    "    df = df.copy()\n",
    "    df[col_name] = df[col_name].str.replace('$','').str.replace(',','')\n",
    "    df[col_name] = df[col_name].astype(float)\n",
    "    return df\n",
    "\n",
    "#listings['price'] = clean_price(listings['price'])\n",
    "\n",
    "def clean_bathrooms(df):\n",
    "    #cleans the bathrooms... har har har... no actually it cleans the bathrooms_text column - DOES NOT CURRENTLY WORK\n",
    "    col = 'bathrooms_text'\n",
    "    df = df.copy()\n",
    "    pattern = r'(\\d.?\\d?)\\s'\n",
    "    pattern2 = r'(half)'\n",
    "    df.loc[df[col].str.contains(pattern2, case=False, na=False)] = 0.5\n",
    "    df[col] = df[col].str.extract(pattern)\n",
    "    df[col] = df[col].astype(float)\n",
    "    return df\n",
    "\n",
    "#listings['bathrooms'] = clean_bathrooms(listings['bathrooms_text'])\n",
    "#listings.drop(columns='bathrooms_text', inplace=True)\n",
    "\n",
    "\n",
    "def clean_property_type(df):\n",
    "    col_name = 'property_type'\n",
    "    df = df.copy()\n",
    "    df[col_name] = df[col_name].str.replace(r'Entire|Tiny home', 'Entire Unit', regex=True)\n",
    "    df[col_name] = df[col_name].str.replace(r'[Rr]oom', 'Single Room', regex=True)\n",
    "    df[col_name] = df[col_name].str.replace(r'Camp', 'Camping', regex=True)\n",
    "    df[col_name] = df[col_name].where(df[col_name].isin(['Camping', 'Single Room', 'Entire Unit']), np.nan)\n",
    "    return df\n",
    "\n",
    "#listings['property_type'] = clean_property_type(listings['property_type'])"
   ]
  },
  {
   "cell_type": "code",
   "execution_count": 6,
   "metadata": {},
   "outputs": [],
   "source": [
    "from sklearn.preprocessing import OneHotEncoder, StandardScaler, FunctionTransformer\n",
    "from sklearn.impute import SimpleImputer\n",
    "from sklearn.pipeline import make_pipeline\n",
    "from sklearn.compose import ColumnTransformer, make_column_selector\n",
    "\n",
    "num_pipe = make_pipeline(\n",
    "    SimpleImputer(strategy='mean'),\n",
    "    StandardScaler()\n",
    ")\n",
    "\n",
    "cat_pipe = make_pipeline(\n",
    "    SimpleImputer(strategy='most_frequent'),\n",
    "    OneHotEncoder(drop='if_binary')\n",
    ")\n",
    "\n",
    "clean_price_pipeline = make_pipeline(\n",
    "    SimpleImputer(strategy='mean'),\n",
    "    FunctionTransformer(np.log1p)\n",
    ")\n",
    "\n",
    "X_preprocessing = ColumnTransformer([\n",
    "    ('cat', cat_pipe, make_column_selector(dtype_include=object)),\n",
    "    ('num', num_pipe, make_column_selector(dtype_include=np.number))\n",
    "],\n",
    "remainder='drop')"
   ]
  },
  {
   "cell_type": "markdown",
   "metadata": {},
   "source": [
    "*0. remove outliers*\n",
    "1. Response variable(price): (clean_price function applied to price column, log transformation applied to price column.\n",
    "2. clean_bathrooms applied to the bathrooms variable\n",
    "3. clean_property_type to property_type column\n",
    "4. numeric columns imputed and scaled (num_pipeline)\n",
    "5. cat columns imputed (most frequent) and one hot encoded (cat_pipeline)"
   ]
  },
  {
   "cell_type": "code",
   "execution_count": null,
   "metadata": {},
   "outputs": [],
   "source": [
    "from sklearn.ensemble import IsolationForest\n",
    "\n",
    "rem_outliers = IsolationForest()\n",
    "\n",
    "outliers_array = rem_outliers.fit_predict(data)\n",
    "data = data.iloc[outliers_array == 1]\n",
    "\n",
    "def remove_outliers(data, outlier_array):\n",
    "    return data.iloc[outlier_array == 1]"
   ]
  }
 ],
 "metadata": {
  "kernelspec": {
   "display_name": "base",
   "language": "python",
   "name": "python3"
  },
  "language_info": {
   "codemirror_mode": {
    "name": "ipython",
    "version": 3
   },
   "file_extension": ".py",
   "mimetype": "text/x-python",
   "name": "python",
   "nbconvert_exporter": "python",
   "pygments_lexer": "ipython3",
   "version": "3.11.7"
  }
 },
 "nbformat": 4,
 "nbformat_minor": 2
}
